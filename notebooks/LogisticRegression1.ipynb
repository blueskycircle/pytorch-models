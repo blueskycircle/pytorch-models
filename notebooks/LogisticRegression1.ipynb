{
 "cells": [
  {
   "cell_type": "markdown",
   "id": "48f57c98",
   "metadata": {},
   "source": [
    "# Logistic Regression in PyTorch"
   ]
  },
  {
   "cell_type": "markdown",
   "id": "03260397",
   "metadata": {},
   "source": [
    "Logistic regression uses a likelihood based on the Bernoulli distribution.\n",
    "\n",
    "The model that we'll fit is:\n",
    "\n",
    "\\begin{align*}\n",
    "y_{i} &\\sim \\textrm{Bernoulli}(p_{i}) ~~~ \\textrm{for}~ i=1, ..., N, \\\\\n",
    "\\textrm{Logit}(p_{i}) &= \\boldsymbol{x}_{i}^{\\top} \\boldsymbol{\\beta}, \n",
    "\\end{align*}\n",
    "\n",
    "where \n",
    "\n",
    "* $y_{i}$ is the response of the $i\\textrm{th}$ observation.\n",
    "* $\\boldsymbol{x}_{i}$ is the vector of covariate values for the $i\\textrm{th}$ observation.\n",
    "* $\\boldsymbol{\\beta}$ is the vector of effects for the fixed covariates.\n",
    "\n",
    "The probability density function of the Bernoulli distribution is:\n",
    "\n",
    "\\begin{align*}\n",
    "f(y_{i}; p_{i}) &= p_{i}^{y_{i}} (1-p_{i})^{(1-y_{i})}\n",
    "\\end{align*}\n",
    "\n",
    "Thus, the likelihood is \n",
    "\n",
    "\\begin{align*}\n",
    "L(p_{i}; y_{i}) &= \\prod_{i=1}^{N} p_{i}^{y_{i}} (1-p_{i})^{(1-y_{i})}\n",
    "\\end{align*}\n",
    "\n",
    "The log-likelihood is \n",
    "\n",
    "\\begin{align*}\n",
    "\\textrm{log}(L(p_{i}; y_{i})) &= \\sum_{i=1}^{N}\\textrm{log} \\left[ p_{i}^{y_{i}} (1-p_{i})^{(1-y_{i})} \\right] \\\\\n",
    "&= \\sum_{i=1}^{N} \\left[ y_{i}\\textrm{log}(p_{i}) + (1-y_{i})\\textrm{log}(1-p_{i}) \\right]\n",
    "\\end{align*}\n",
    "\n",
    "The negative log-likelihood is \n",
    "\n",
    "\\begin{align*}\n",
    "-\\textrm{log}(L(p_{i}; y_{i})) &= -\\sum_{i=1}^{N} \\left[ y_{i}\\textrm{log}(p_{i}) + (1-y_{i})\\textrm{log}(1-p_{i}) \\right]\n",
    "\\end{align*}"
   ]
  },
  {
   "cell_type": "markdown",
   "id": "6680421b",
   "metadata": {},
   "source": [
    "## Import libraries"
   ]
  },
  {
   "cell_type": "code",
   "execution_count": 1,
   "id": "297dc6ae",
   "metadata": {},
   "outputs": [],
   "source": [
    "# Import necessary libraries\n",
    "import torch\n",
    "import torch.nn as nn\n",
    "import torch.optim as optim\n",
    "import numpy as np\n",
    "import matplotlib.pyplot as plt\n",
    "\n",
    "import sys\n",
    "import os\n",
    "sys.path.append(os.path.abspath(os.path.join(os.getcwd(), '..')))\n",
    "from library.LogisticRegression import LogisticRegression"
   ]
  },
  {
   "cell_type": "markdown",
   "id": "38d7a98a",
   "metadata": {},
   "source": [
    "## Step 1: Generate synthetic data for the Logistic regression"
   ]
  },
  {
   "cell_type": "code",
   "execution_count": 2,
   "id": "30c7ea8c",
   "metadata": {},
   "outputs": [],
   "source": [
    "# Set random seed for reproducibility\n",
    "torch.manual_seed(42)\n",
    "\n",
    "n = 5000  # sample size\n",
    "p = 1      # number of predictors (excluding intercept); change as needed\n",
    "\n",
    "X = torch.rand(n, p)\n",
    "\n",
    "# True parameters: fixed effects vector β including an intercept (shape: (p+1, 1))\n",
    "beta_true = torch.randn(p + 1, 1)\n",
    "\n",
    "# Create design matrix with intercept\n",
    "X_with_intercept = torch.cat([torch.ones(n, 1), X], dim=1)\n",
    "\n",
    "# Compute true logits and probabilities via the logistic function\n",
    "logits_true = X_with_intercept @ beta_true\n",
    "probabilities = torch.sigmoid(logits_true)\n",
    "\n",
    "# Generate binary outcomes: y ~ Bernoulli(probabilities)\n",
    "y = torch.bernoulli(probabilities)"
   ]
  },
  {
   "cell_type": "markdown",
   "id": "ecdcb087",
   "metadata": {},
   "source": [
    "# Step 2: Instantiate model and optimizer"
   ]
  },
  {
   "cell_type": "code",
   "execution_count": 3,
   "id": "8be0887a",
   "metadata": {},
   "outputs": [],
   "source": [
    "model = LogisticRegression(X)\n",
    "optimizer = torch.optim.Adam(model.parameters(), lr=0.01)"
   ]
  },
  {
   "cell_type": "markdown",
   "id": "fbd9e6d1",
   "metadata": {},
   "source": [
    "# Step 3: Train the model"
   ]
  },
  {
   "cell_type": "code",
   "execution_count": 4,
   "id": "eaf7945d",
   "metadata": {},
   "outputs": [
    {
     "name": "stdout",
     "output_type": "stream",
     "text": [
      "Epoch [1000/3000], NLL: 3062.0977\n",
      "Epoch [2000/3000], NLL: 3062.0977\n",
      "Epoch [3000/3000], NLL: 3062.0974\n",
      "Training completed in 1.92 seconds\n"
     ]
    }
   ],
   "source": [
    "num_epochs = 3000\n",
    "losses = []\n",
    "import time\n",
    "start_time = time.time()  # Start timer\n",
    "\n",
    "for epoch in range(num_epochs):\n",
    "    loss = model.negative_log_likelihood(X, y)\n",
    "    losses.append(loss.item())\n",
    "    \n",
    "    optimizer.zero_grad()\n",
    "    loss.backward()\n",
    "    optimizer.step()\n",
    "    \n",
    "    # Print progress every 1000 epochs\n",
    "    if (epoch+1) % 1000 == 0:\n",
    "        print(f'Epoch [{epoch+1}/{num_epochs}], NLL: {loss.item():.4f}')\n",
    "\n",
    "elapsed_time = time.time() - start_time  # Stop timer\n",
    "print(f\"Training completed in {elapsed_time:.2f} seconds\")\n"
   ]
  },
  {
   "cell_type": "markdown",
   "id": "269f4fbf",
   "metadata": {},
   "source": [
    "# Step 4: Extract learned parameters"
   ]
  },
  {
   "cell_type": "code",
   "execution_count": 5,
   "id": "ba26aa76",
   "metadata": {},
   "outputs": [
    {
     "name": "stdout",
     "output_type": "stream",
     "text": [
      "Learned β: [0.06603933125734329, -1.6181786060333252]\n",
      "True β:    [0.0919087752699852, -1.6696442365646362]\n"
     ]
    }
   ],
   "source": [
    "learned_beta_logistic = model.beta.data.flatten()\n",
    "print(\"Learned β:\", learned_beta_logistic.tolist())\n",
    "print(\"True β:   \", beta_true.flatten().tolist())"
   ]
  }
 ],
 "metadata": {
  "kernelspec": {
   "display_name": ".venv",
   "language": "python",
   "name": "python3"
  },
  "language_info": {
   "codemirror_mode": {
    "name": "ipython",
    "version": 3
   },
   "file_extension": ".py",
   "mimetype": "text/x-python",
   "name": "python",
   "nbconvert_exporter": "python",
   "pygments_lexer": "ipython3",
   "version": "3.11.5"
  }
 },
 "nbformat": 4,
 "nbformat_minor": 5
}
