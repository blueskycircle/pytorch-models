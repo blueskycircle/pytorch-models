{
 "cells": [
  {
   "cell_type": "markdown",
   "id": "7d1843d0",
   "metadata": {},
   "source": [
    "# Gaussian Model in Pytorch"
   ]
  },
  {
   "cell_type": "markdown",
   "id": "c8e0de7c",
   "metadata": {},
   "source": [
    "## Import libraries"
   ]
  },
  {
   "cell_type": "code",
   "execution_count": 1,
   "id": "d28526e5",
   "metadata": {},
   "outputs": [
    {
     "data": {
      "text/plain": [
       "<torch._C.Generator at 0x215daac01d0>"
      ]
     },
     "execution_count": 1,
     "metadata": {},
     "output_type": "execute_result"
    }
   ],
   "source": [
    "# Import necessary libraries\n",
    "import torch\n",
    "import torch.nn as nn\n",
    "import torch.optim as optim\n",
    "import numpy as np\n",
    "import matplotlib.pyplot as plt\n",
    "\n",
    "import sys\n",
    "import os\n",
    "sys.path.append(os.path.abspath(os.path.join(os.getcwd(), '..')))\n",
    "from library.GaussianRegression import GaussianRegression\n",
    "\n",
    "# Set random seed for reproducibility\n",
    "torch.manual_seed(123)"
   ]
  },
  {
   "cell_type": "markdown",
   "id": "5f4dc82f",
   "metadata": {},
   "source": [
    "## Step 1: Generate synthetic data based on a linear model"
   ]
  },
  {
   "cell_type": "code",
   "execution_count": 2,
   "id": "9c5373f3",
   "metadata": {},
   "outputs": [],
   "source": [
    "# Step 1: Generate synthetic data based on a linear model\n",
    "# y_i ~ N(X_i β, σ²)\n",
    "n = 10000  # sample size\n",
    "p = 5        # number of predictors (excluding intercept); change as needed\n",
    "\n",
    "if p == 1:\n",
    "    # For a single predictor, use linspace for clarity\n",
    "    X = torch.linspace(0, 10, n).reshape(-1, p)  # Design matrix (without intercept)\n",
    "else:\n",
    "    # For multiple predictors, generate random features in [0, 10)\n",
    "    X = torch.rand(n, p) * 10\n",
    "\n",
    "# True parameters: Choose random intercept and slopes (shape: (p+1, 1))\n",
    "# Using standard normal draws (you can scale or shift as needed)\n",
    "true_beta = torch.randn(p+1, 1)\n",
    "true_sigma = 1.5  # standard deviation of the error term\n",
    "\n",
    "# Generate response variable with noise (μ = Xβ, σ = true_sigma)\n",
    "X_with_intercept = torch.cat([torch.ones(n, 1), X], dim=1)  # Add intercept column\n",
    "mu = X_with_intercept @ true_beta  # μ = Xβ\n",
    "epsilon = torch.randn(n, 1) * true_sigma  # ε ~ N(0, σ²)\n",
    "y = mu + epsilon  # y = Xβ + ε"
   ]
  },
  {
   "cell_type": "markdown",
   "id": "d632bb23",
   "metadata": {},
   "source": [
    "# Step 2: Instantiate model and optimizer"
   ]
  },
  {
   "cell_type": "code",
   "execution_count": 3,
   "id": "d9f7d7ee",
   "metadata": {},
   "outputs": [],
   "source": [
    "# Step 2: Instantiate model and optimizer using X to deduce input dimension\n",
    "model = GaussianRegression(X)\n",
    "optimizer = optim.Adam(model.parameters(), lr=0.01)"
   ]
  },
  {
   "cell_type": "markdown",
   "id": "56ef8643",
   "metadata": {},
   "source": [
    "# Step 3: Train the model"
   ]
  },
  {
   "cell_type": "code",
   "execution_count": 4,
   "id": "2832d047",
   "metadata": {},
   "outputs": [
    {
     "name": "stdout",
     "output_type": "stream",
     "text": [
      "Epoch [1000/10000], NLL: 40212.0781\n",
      "Epoch [2000/10000], NLL: 31923.8711\n",
      "Epoch [3000/10000], NLL: 26627.7109\n",
      "Epoch [4000/10000], NLL: 20110.2891\n",
      "Epoch [5000/10000], NLL: 18313.5020\n",
      "Epoch [6000/10000], NLL: 18301.2617\n",
      "Epoch [7000/10000], NLL: 18301.2617\n",
      "Epoch [8000/10000], NLL: 18301.2617\n",
      "Epoch [9000/10000], NLL: 18301.2617\n",
      "Epoch [10000/10000], NLL: 18301.2617\n"
     ]
    }
   ],
   "source": [
    "# Step 3: Train the model\n",
    "num_epochs = 10000\n",
    "losses = []\n",
    "\n",
    "for epoch in range(num_epochs):\n",
    "    # Compute negative log-likelihood\n",
    "    loss = model.negative_log_likelihood(X, y)\n",
    "    losses.append(loss.item())\n",
    "    \n",
    "    # Backward pass and optimize\n",
    "    optimizer.zero_grad()\n",
    "    loss.backward()\n",
    "    optimizer.step()\n",
    "    \n",
    "    # Print progress\n",
    "    if (epoch+1) % 1000 == 0:\n",
    "        print(f'Epoch [{epoch+1}/{num_epochs}], NLL: {loss.item():.4f}')"
   ]
  },
  {
   "cell_type": "markdown",
   "id": "d6bc956e",
   "metadata": {},
   "source": [
    "# Step 4: Extract learned parameters"
   ]
  },
  {
   "cell_type": "code",
   "execution_count": 5,
   "id": "9fe8329f",
   "metadata": {},
   "outputs": [
    {
     "name": "stdout",
     "output_type": "stream",
     "text": [
      "Learned parameters:\n",
      "β = [-0.6161682605743408, -0.48885419964790344, -0.5355420112609863, 0.6022506952285767, -2.560500383377075, 0.18994207680225372]\n",
      "σ = 1.5086\n",
      "True parameters:\n",
      "β = [-0.6942135095596313, -0.48340314626693726, -0.530332624912262, 0.6093006134033203, -2.5594072341918945, 0.18734775483608246]\n",
      "σ = 1.5000\n"
     ]
    }
   ],
   "source": [
    "# Step 4: Extract learned parameters\n",
    "learned_beta = model.beta.data.flatten()\n",
    "learned_sigma = model.sigma().item()\n",
    "\n",
    "print(f'Learned parameters:')\n",
    "print(f'β = {learned_beta.tolist()}')\n",
    "print(f'σ = {learned_sigma:.4f}')\n",
    "print(f'True parameters:')\n",
    "print(f'β = {true_beta.flatten().tolist()}')\n",
    "print(f'σ = {true_sigma:.4f}')"
   ]
  },
  {
   "cell_type": "markdown",
   "id": "87bf666f",
   "metadata": {},
   "source": [
    "# Step 5: Plot results"
   ]
  },
  {
   "cell_type": "code",
   "execution_count": 6,
   "id": "b7de6d2e",
   "metadata": {},
   "outputs": [
    {
     "name": "stdout",
     "output_type": "stream",
     "text": [
      "Skipping plot since p > 1 (plotting only works for a single predictor).\n"
     ]
    },
    {
     "data": {
      "image/png": "[encoded data removed]",
      "text/plain": [
       "<Figure size 1000x600 with 1 Axes>"
      ]
     },
     "metadata": {},
     "output_type": "display_data"
    }
   ],
   "source": [
    "# Step 5: Plot results (only if p==1)\n",
    "if p == 1:\n",
    "    plt.figure(figsize=(10, 6))\n",
    "    \n",
    "    # Plot training data\n",
    "    plt.scatter(X.numpy(), y.numpy(), label='Observations', s=1)\n",
    "    \n",
    "    # Plot the true regression line\n",
    "    x_range = np.linspace(0, 10, 100).reshape(-1, 1)\n",
    "    x_range_with_intercept = np.column_stack([np.ones(100), x_range])\n",
    "    plt.plot(x_range, x_range_with_intercept @ true_beta.numpy(), 'r', \n",
    "             label=f'True: y = {true_beta[0].item():.2f} + {true_beta[1].item():.2f}x')\n",
    "    \n",
    "    # Plot the fitted regression line\n",
    "    with torch.no_grad():\n",
    "        y_pred = model(torch.FloatTensor(x_range))\n",
    "    plt.plot(x_range, y_pred.numpy(), 'g--', \n",
    "             label=f'Fitted: y = {learned_beta[0].item():.2f} + {learned_beta[1].item():.2f}x')\n",
    "    \n",
    "    # Plot confidence bands (μ ± 2σ)\n",
    "    plt.fill_between(\n",
    "        x_range.flatten(),\n",
    "        (x_range_with_intercept @ learned_beta.unsqueeze(1).numpy() - 2 * learned_sigma).reshape(-1),\n",
    "        (x_range_with_intercept @ learned_beta.unsqueeze(1).numpy() + 2 * learned_sigma).reshape(-1),\n",
    "        alpha=0.2, color='g', label=f'95% Confidence Band (σ = {learned_sigma:.2f})'\n",
    "    )\n",
    "    \n",
    "    plt.xlabel('x')\n",
    "    plt.ylabel('y')\n",
    "    plt.legend()\n",
    "    plt.title('Gaussian Regression with Fixed Effects (β) and Standard Deviation (σ)')\n",
    "    plt.grid(True)\n",
    "    plt.show()\n",
    "else:\n",
    "    print(\"Skipping plot since p > 1 (plotting only works for a single predictor).\")\n",
    "\n",
    "# Plot the loss curve\n",
    "plt.figure(figsize=(10, 6))\n",
    "plt.plot(range(num_epochs), losses)\n",
    "plt.xlabel('Epoch')\n",
    "plt.ylabel('Negative Log-Likelihood')\n",
    "plt.title('Training Loss Over Time')\n",
    "plt.grid(True)\n",
    "plt.show()"
   ]
  },
  {
   "cell_type": "markdown",
   "id": "a2662fa8",
   "metadata": {},
   "source": [
    "$$y \\sim \\mathcal{N}(\\mu, \\sigma^2) $$\n",
    "\n"
   ]
  },
  {
   "cell_type": "markdown",
   "id": "6d94117b",
   "metadata": {},
   "source": [
    "$$ p(y \\mid \\mu, \\sigma) = \\frac{1}{\\sqrt{2\\pi},\\sigma}\\exp\\left(-\\frac{1}{2}\\left(\\frac{y-\\mu}{\\sigma}\\right)^2\\right) $$"
   ]
  },
  {
   "cell_type": "markdown",
   "id": "514cd268",
   "metadata": {},
   "source": [
    "$$ -\\log p(y \\mid \\mu, \\sigma) = \\frac{1}{2}\\log(2\\pi) + \\log(\\sigma) + \\frac{1}{2}\\left(\\frac{y-\\mu}{\\sigma}\\right)^2 $$"
   ]
  }
 ],
 "metadata": {
  "kernelspec": {
   "display_name": ".venv",
   "language": "python",
   "name": "python3"
  },
  "language_info": {
   "codemirror_mode": {
    "name": "ipython",
    "version": 3
   },
   "file_extension": ".py",
   "mimetype": "text/x-python",
   "name": "python",
   "nbconvert_exporter": "python",
   "pygments_lexer": "ipython3",
   "version": "3.11.5"
  }
 },
 "nbformat": 4,
 "nbformat_minor": 5
}
