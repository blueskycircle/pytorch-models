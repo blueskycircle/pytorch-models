{
 "cells": [
  {
   "cell_type": "markdown",
   "id": "7d1843d0",
   "metadata": {},
   "source": [
    "# Gaussian Regression in PyTorch"
   ]
  },
  {
   "cell_type": "markdown",
   "id": "1d621cce",
   "metadata": {},
   "source": [
    "Gaussian regression uses a likelihood based on the Gaussian distribution.\n",
    "\n",
    "The model that we'll fit is:\n",
    "\n",
    "\\begin{align*}\n",
    "y_{i} &\\sim \\textrm{Normal}(\\mu_{i}, \\sigma^{2}) ~~~ \\textrm{for}~ i=1, ..., N, \\\\\n",
    "\\mu_{i} &= \\boldsymbol{x}_{i}^{\\top} \\boldsymbol{\\beta}, \n",
    "\\end{align*}\n",
    "\n",
    "where \n",
    "\n",
    "* $y_{i}$ is the response of the $i\\textrm{th}$ observation.\n",
    "* $\\boldsymbol{x}_{i}$ is the vector of covariate values for the $i\\textrm{th}$ observation.\n",
    "* $\\boldsymbol{\\beta}$ is the vector of effects for the fixed covariates.\n",
    "\n",
    "The probability density function of the Gaussian distribution is:\n",
    "\n",
    "\\begin{align*}\n",
    "f(y_{i}; \\mu_{i}, \\sigma) &= \\frac{1}{\\sigma\\sqrt{2\\pi}}\\exp\\left( -\\frac{1}{2\\sigma^{2}} (y_{i}-\\boldsymbol{x}_{i}^{\\top} \\boldsymbol{\\beta})^2 \\right)\n",
    "\\end{align*}\n",
    "\n",
    "Thus, the likelihood is \n",
    "\n",
    "\\begin{align*}\n",
    "L(\\mu_{i}, \\sigma; y_{i}) &= \\prod_{i=1}^{N} \\sigma^{-1} (2\\pi)^{-0.5}\\exp\\left( -\\frac{1}{2\\sigma^{2}} (y_{i}-\\boldsymbol{x}_{i}^{\\top} \\boldsymbol{\\beta})^2 \\right)\n",
    "\\end{align*}\n",
    "\n",
    "The log-likelihood is \n",
    "\n",
    "\\begin{align*}\n",
    "\\textrm{log}(L(\\mu_{i}, \\sigma; y_{i})) &= \\sum_{i=1}^{N}\\textrm{log} \\left[ \\sigma^{-1} (2\\pi)^{-0.5}\\exp\\left( -\\frac{1}{2\\sigma^{2}} (y_{i}-\\boldsymbol{x}_{i}^{\\top} \\boldsymbol{\\beta})^2 \\right) \\right] \\\\\n",
    "&= - \\sum_{i=1}^{N}\\left[ \\textrm{log}(\\sigma) + 0.5 \\textrm{log}(2\\pi) + \\frac{1}{2\\sigma^{2}} (y_{i}-\\boldsymbol{x}_{i}^{\\top} \\boldsymbol{\\beta})^2 \\right]\n",
    "\\end{align*}\n",
    "\n",
    "The negative log-likelihood is \n",
    "\n",
    "\\begin{align*}\n",
    "-\\textrm{log}(L(\\mu_{i}, \\sigma; y_{i})) &= \\sum_{i=1}^{N}\\left[ \\textrm{log}(\\sigma) + 0.5 \\textrm{log}(2\\pi) + \\frac{1}{2\\sigma^{2}} (y_{i}-\\boldsymbol{x}_{i}^{\\top} \\boldsymbol{\\beta})^2 \\right]\n",
    "\\end{align*}"
   ]
  },
  {
   "cell_type": "markdown",
   "id": "c8e0de7c",
   "metadata": {},
   "source": [
    "## Import libraries"
   ]
  },
  {
   "cell_type": "code",
   "execution_count": 1,
   "id": "d28526e5",
   "metadata": {},
   "outputs": [],
   "source": [
    "import torch\n",
    "import torch.nn as nn\n",
    "import torch.optim as optim\n",
    "import numpy as np\n",
    "import matplotlib.pyplot as plt\n",
    "\n",
    "import sys\n",
    "import os\n",
    "sys.path.append(os.path.abspath(os.path.join(os.getcwd(), '..')))\n",
    "from library.GaussianRegression import GaussianRegression"
   ]
  },
  {
   "cell_type": "markdown",
   "id": "5f4dc82f",
   "metadata": {},
   "source": [
    "## Step 1: Generate synthetic data based on a linear model"
   ]
  },
  {
   "cell_type": "code",
   "execution_count": 2,
   "id": "9c5373f3",
   "metadata": {},
   "outputs": [],
   "source": [
    "# Set random seed for reproducibility\n",
    "torch.manual_seed(123)\n",
    "\n",
    "# y_i ~ N(X_i β, σ²)\n",
    "n = 10000  # sample size\n",
    "p = 5        # number of predictors (excluding intercept); change as needed\n",
    "\n",
    "if p == 1:\n",
    "    # For a single predictor, use linspace for clarity\n",
    "    X = torch.linspace(0, 10, n).reshape(-1, p)  # Design matrix (without intercept)\n",
    "else:\n",
    "    # For multiple predictors, generate random features in [0, 10)\n",
    "    X = torch.rand(n, p) * 10\n",
    "\n",
    "# True parameters: Choose random intercept and slopes (shape: (p+1, 1))\n",
    "# Using standard normal draws (you can scale or shift as needed)\n",
    "true_beta = torch.randn(p+1, 1)\n",
    "true_sigma = 1.5  # standard deviation of the error term\n",
    "\n",
    "# Generate response variable with noise (μ = Xβ, σ = true_sigma)\n",
    "X_with_intercept = torch.cat([torch.ones(n, 1), X], dim=1)  # Add intercept column\n",
    "mu = X_with_intercept @ true_beta  # μ = Xβ\n",
    "epsilon = torch.randn(n, 1) * true_sigma  # ε ~ N(0, σ²)\n",
    "y = mu + epsilon  # y = Xβ + ε"
   ]
  },
  {
   "cell_type": "markdown",
   "id": "d632bb23",
   "metadata": {},
   "source": [
    "# Step 2: Instantiate model and optimizer"
   ]
  },
  {
   "cell_type": "code",
   "execution_count": 3,
   "id": "d9f7d7ee",
   "metadata": {},
   "outputs": [],
   "source": [
    "model = GaussianRegression(X)\n",
    "optimizer = optim.Adam(model.parameters(), lr=0.01)"
   ]
  },
  {
   "cell_type": "markdown",
   "id": "56ef8643",
   "metadata": {},
   "source": [
    "# Step 3: Train the model"
   ]
  },
  {
   "cell_type": "code",
   "execution_count": 4,
   "id": "2832d047",
   "metadata": {},
   "outputs": [
    {
     "name": "stdout",
     "output_type": "stream",
     "text": [
      "Epoch [1000/3000], NLL: 40212.0781\n",
      "Epoch [2000/3000], NLL: 31923.8711\n",
      "Epoch [3000/3000], NLL: 26627.7109\n",
      "Training completed in 2.69 seconds\n"
     ]
    }
   ],
   "source": [
    "num_epochs = 3000\n",
    "losses = []\n",
    "import time\n",
    "start_time = time.time()  # Start timer\n",
    "\n",
    "for epoch in range(num_epochs):\n",
    "    # Compute negative log-likelihood\n",
    "    loss = model.negative_log_likelihood(X, y)\n",
    "    losses.append(loss.item())\n",
    "    \n",
    "    # Backward pass and optimize\n",
    "    optimizer.zero_grad()\n",
    "    loss.backward()\n",
    "    optimizer.step()\n",
    "    \n",
    "    # Print progress\n",
    "    if (epoch+1) % 1000 == 0:\n",
    "        print(f'Epoch [{epoch+1}/{num_epochs}], NLL: {loss.item():.4f}')\n",
    "\n",
    "elapsed_time = time.time() - start_time  # Stop timer\n",
    "print(f\"Training completed in {elapsed_time:.2f} seconds\")"
   ]
  },
  {
   "cell_type": "markdown",
   "id": "d6bc956e",
   "metadata": {},
   "source": [
    "# Step 4: Extract learned parameters"
   ]
  },
  {
   "cell_type": "code",
   "execution_count": 5,
   "id": "9fe8329f",
   "metadata": {},
   "outputs": [
    {
     "name": "stdout",
     "output_type": "stream",
     "text": [
      "Learned parameters:\n",
      "β = [-0.49656739830970764, -0.7261670827865601, -0.4242430627346039, 0.3784099221229553, -1.9232566356658936, -0.0924781858921051]\n",
      "σ = 4.9042\n",
      "True parameters:\n",
      "β = [-0.6942135095596313, -0.48340314626693726, -0.530332624912262, 0.6093006134033203, -2.5594072341918945, 0.18734775483608246]\n",
      "σ = 1.5000\n"
     ]
    }
   ],
   "source": [
    "learned_beta = model.beta.data.flatten()\n",
    "learned_sigma = model.sigma().item()\n",
    "\n",
    "print(f'Learned parameters:')\n",
    "print(f'β = {learned_beta.tolist()}')\n",
    "print(f'σ = {learned_sigma:.4f}')\n",
    "print(f'True parameters:')\n",
    "print(f'β = {true_beta.flatten().tolist()}')\n",
    "print(f'σ = {true_sigma:.4f}')"
   ]
  },
  {
   "cell_type": "markdown",
   "id": "87bf666f",
   "metadata": {},
   "source": [
    "# Step 5: Plot results"
   ]
  },
  {
   "cell_type": "code",
   "execution_count": 6,
   "id": "b7de6d2e",
   "metadata": {},
   "outputs": [
    {
     "data": {
      "image/png": "[encoded data removed]",
      "text/plain": [
       "<Figure size 1000x600 with 1 Axes>"
      ]
     },
     "metadata": {},
     "output_type": "display_data"
    }
   ],
   "source": [
    "plt.figure(figsize=(10, 6))\n",
    "plt.plot(range(num_epochs), losses)\n",
    "plt.xlabel('Epoch')\n",
    "plt.ylabel('Negative Log-Likelihood')\n",
    "plt.title('Training Loss Over Time')\n",
    "plt.grid(True)\n",
    "plt.show()"
   ]
  }
 ],
 "metadata": {
  "kernelspec": {
   "display_name": ".venv",
   "language": "python",
   "name": "python3"
  },
  "language_info": {
   "codemirror_mode": {
    "name": "ipython",
    "version": 3
   },
   "file_extension": ".py",
   "mimetype": "text/x-python",
   "name": "python",
   "nbconvert_exporter": "python",
   "pygments_lexer": "ipython3",
   "version": "3.11.5"
  }
 },
 "nbformat": 4,
 "nbformat_minor": 5
}
